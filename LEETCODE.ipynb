{
 "cells": [
  {
   "cell_type": "markdown",
   "id": "f94a8a61-1477-4474-842d-7e94e682eddf",
   "metadata": {},
   "source": [
    "# LEETCODE TOP INTERVIEW QUESTIONS WITH SOLUTIONS"
   ]
  },
  {
   "cell_type": "markdown",
   "id": "67151793-9453-4f77-85d6-6bc44a4cbad3",
   "metadata": {},
   "source": [
    "## TWO SUM"
   ]
  },
  {
   "cell_type": "code",
   "execution_count": 44,
   "id": "20b4bab6-b964-4300-8fa1-1e8c31ea40fe",
   "metadata": {},
   "outputs": [],
   "source": [
    "a = [2,7,11,15]\n",
    "b = 9\n",
    "# a=[2,1,5,3]\n",
    "# b=4"
   ]
  },
  {
   "cell_type": "code",
   "execution_count": 45,
   "id": "d5c0042a-44a8-4e5a-8839-0ef27056551d",
   "metadata": {},
   "outputs": [],
   "source": [
    "def twoSum(a,b):\n",
    "    prevMap = {}\n",
    "    for i, n in enumerate(a):\n",
    "        diff = b - n\n",
    "        if diff in prevMap:\n",
    "            return [prevMap[diff], i]\n",
    "        prevMap[n] = i\n",
    "    return"
   ]
  },
  {
   "cell_type": "code",
   "execution_count": 46,
   "id": "9a382c53-f960-4175-b793-44058453753d",
   "metadata": {},
   "outputs": [
    {
     "data": {
      "text/plain": [
       "[0, 1]"
      ]
     },
     "execution_count": 46,
     "metadata": {},
     "output_type": "execute_result"
    }
   ],
   "source": [
    "twoSum(a,b)"
   ]
  },
  {
   "cell_type": "markdown",
   "id": "9174c954-f67c-44ba-9a4e-ec32eaacc0a6",
   "metadata": {},
   "source": [
    "## BEST TIME TO BUY SELL STOCK"
   ]
  },
  {
   "cell_type": "code",
   "execution_count": null,
   "id": "ff6dd388-b9e3-40c4-be34-12ab3d941d9a",
   "metadata": {},
   "outputs": [],
   "source": []
  },
  {
   "cell_type": "code",
   "execution_count": null,
   "id": "776237ac-1e5e-4c46-ad7c-073dff4a0436",
   "metadata": {},
   "outputs": [],
   "source": []
  },
  {
   "cell_type": "code",
   "execution_count": null,
   "id": "dc9b8af8-e255-4d86-86bd-6930161bc6fe",
   "metadata": {},
   "outputs": [],
   "source": []
  },
  {
   "cell_type": "code",
   "execution_count": null,
   "id": "35e1fb41-d5fd-4316-a853-887fa9550af5",
   "metadata": {},
   "outputs": [],
   "source": []
  },
  {
   "cell_type": "code",
   "execution_count": null,
   "id": "8e1b7f00-ed7c-42b5-95e4-30aabe32d4bb",
   "metadata": {},
   "outputs": [],
   "source": []
  },
  {
   "cell_type": "code",
   "execution_count": null,
   "id": "c5c010d9-532a-4e5c-ae0e-c29fdd795248",
   "metadata": {},
   "outputs": [],
   "source": []
  },
  {
   "cell_type": "code",
   "execution_count": null,
   "id": "149f4a7a-3d48-42bd-aa6b-dfb93d9c4167",
   "metadata": {},
   "outputs": [],
   "source": []
  },
  {
   "cell_type": "code",
   "execution_count": null,
   "id": "f070b15f-0c1c-4667-bf3b-85b820063542",
   "metadata": {},
   "outputs": [],
   "source": []
  },
  {
   "cell_type": "code",
   "execution_count": null,
   "id": "142b44af-19b7-4b3c-94d8-9111081eac6f",
   "metadata": {},
   "outputs": [],
   "source": []
  },
  {
   "cell_type": "code",
   "execution_count": null,
   "id": "76939663-49c0-4956-abd8-6ce72aaae95d",
   "metadata": {},
   "outputs": [],
   "source": []
  },
  {
   "cell_type": "code",
   "execution_count": null,
   "id": "005df7f4-56e2-432b-9b1e-549133e9761c",
   "metadata": {},
   "outputs": [],
   "source": []
  },
  {
   "cell_type": "code",
   "execution_count": null,
   "id": "27772f0e-e0b6-4475-8ddc-f64d043b6709",
   "metadata": {},
   "outputs": [],
   "source": []
  },
  {
   "cell_type": "code",
   "execution_count": null,
   "id": "d6ece67e-d9e3-48bd-819a-9b85357a51c0",
   "metadata": {},
   "outputs": [],
   "source": []
  },
  {
   "cell_type": "code",
   "execution_count": null,
   "id": "67541f11-17ea-4cab-9ce1-5cb1c3db2dd3",
   "metadata": {},
   "outputs": [],
   "source": []
  },
  {
   "cell_type": "code",
   "execution_count": null,
   "id": "201bf05c-1a6e-4470-bedb-4264f2f004a5",
   "metadata": {},
   "outputs": [],
   "source": []
  },
  {
   "cell_type": "code",
   "execution_count": null,
   "id": "0136593e-53a3-4186-9182-b7242413538a",
   "metadata": {},
   "outputs": [],
   "source": []
  },
  {
   "cell_type": "code",
   "execution_count": null,
   "id": "ef29f621-cc63-4436-8af6-e274d9c29fd9",
   "metadata": {},
   "outputs": [],
   "source": []
  },
  {
   "cell_type": "code",
   "execution_count": null,
   "id": "f363bf34-ada8-4613-bd48-0903a4f23e81",
   "metadata": {},
   "outputs": [],
   "source": []
  },
  {
   "cell_type": "code",
   "execution_count": null,
   "id": "23e21969-c567-4624-9a5b-2fc0fd81fabb",
   "metadata": {},
   "outputs": [],
   "source": []
  },
  {
   "cell_type": "code",
   "execution_count": null,
   "id": "a260348a-db20-47b5-be88-c0669b878941",
   "metadata": {},
   "outputs": [],
   "source": []
  },
  {
   "cell_type": "code",
   "execution_count": null,
   "id": "ee664e13-5541-4e00-a1a3-62ae6c312f53",
   "metadata": {},
   "outputs": [],
   "source": []
  },
  {
   "cell_type": "code",
   "execution_count": null,
   "id": "2a213076-8c57-4183-9f87-a2827754684f",
   "metadata": {},
   "outputs": [],
   "source": []
  },
  {
   "cell_type": "code",
   "execution_count": null,
   "id": "b212488d-3042-4b58-bb51-955672324fa9",
   "metadata": {},
   "outputs": [],
   "source": []
  },
  {
   "cell_type": "code",
   "execution_count": null,
   "id": "91ff54be-dfba-4400-8d28-5c50e0394f8d",
   "metadata": {},
   "outputs": [],
   "source": []
  },
  {
   "cell_type": "code",
   "execution_count": null,
   "id": "0ece2fdc-4920-475b-a0fd-1c2c6e8fb28c",
   "metadata": {},
   "outputs": [],
   "source": []
  },
  {
   "cell_type": "code",
   "execution_count": null,
   "id": "9d11ce4d-6a7a-46d9-9741-b203afeb18f7",
   "metadata": {},
   "outputs": [],
   "source": []
  },
  {
   "cell_type": "code",
   "execution_count": null,
   "id": "34e4d541-be52-4973-9134-85d16b0e4e2d",
   "metadata": {},
   "outputs": [],
   "source": []
  }
 ],
 "metadata": {
  "kernelspec": {
   "display_name": "Python 3 (ipykernel)",
   "language": "python",
   "name": "python3"
  },
  "language_info": {
   "codemirror_mode": {
    "name": "ipython",
    "version": 3
   },
   "file_extension": ".py",
   "mimetype": "text/x-python",
   "name": "python",
   "nbconvert_exporter": "python",
   "pygments_lexer": "ipython3",
   "version": "3.12.5"
  }
 },
 "nbformat": 4,
 "nbformat_minor": 5
}
